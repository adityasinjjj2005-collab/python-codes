{
 "cells": [
  {
   "cell_type": "code",
   "execution_count": 1,
   "id": "ea21679c-f24f-4b0f-b401-19300d952f13",
   "metadata": {},
   "outputs": [
    {
     "name": "stdout",
     "output_type": "stream",
     "text": [
      "15\n"
     ]
    }
   ],
   "source": [
    "print(7+8)"
   ]
  },
  {
   "cell_type": "code",
   "execution_count": 3,
   "id": "7ef7b216-97f5-4627-b8d1-08a50a87e568",
   "metadata": {},
   "outputs": [
    {
     "name": "stdout",
     "output_type": "stream",
     "text": [
      "helloworld\n"
     ]
    }
   ],
   "source": [
    "print(\"hello\"+\"world\")"
   ]
  },
  {
   "cell_type": "code",
   "execution_count": 2,
   "id": "2cbdf19b-de8a-4186-9436-7db75dab0059",
   "metadata": {},
   "outputs": [
    {
     "name": "stdout",
     "output_type": "stream",
     "text": [
      "helloworld\n"
     ]
    }
   ],
   "source": [
    "print(\"helloworld\")"
   ]
  },
  {
   "cell_type": "code",
   "execution_count": 4,
   "id": "4aac83bf-4640-41ea-9574-c96efd5c5da2",
   "metadata": {},
   "outputs": [
    {
     "name": "stdout",
     "output_type": "stream",
     "text": [
      "<class 'str'>\n",
      "<class 'int'>\n",
      "<class 'float'>\n"
     ]
    }
   ],
   "source": [
    "print(type(\"a\"))\n",
    "print(type(2))\n",
    "print(type(2.6))"
   ]
  },
  {
   "cell_type": "code",
   "execution_count": 5,
   "id": "9e0efae1-0b59-49ae-aef2-23ae25a7c7e6",
   "metadata": {},
   "outputs": [
    {
     "name": "stdout",
     "output_type": "stream",
     "text": [
      "37.5\n"
     ]
    }
   ],
   "source": [
    "print(7.5+30)"
   ]
  },
  {
   "cell_type": "code",
   "execution_count": 6,
   "id": "580f267f-def3-4eef-aa5a-e202443b3b9a",
   "metadata": {},
   "outputs": [
    {
     "name": "stdout",
     "output_type": "stream",
     "text": [
      "ABC\n"
     ]
    }
   ],
   "source": [
    "print(\"A\"+\"B\"+\"C\")"
   ]
  },
  {
   "cell_type": "code",
   "execution_count": 7,
   "id": "eedb751b-0e2a-4d5d-92a8-82c2eb3decc6",
   "metadata": {},
   "outputs": [
    {
     "name": "stdout",
     "output_type": "stream",
     "text": [
      "rohanisverycute\n"
     ]
    }
   ],
   "source": [
    "print(\"rohan\"+\"is\"+\"very\"+\"cute\")"
   ]
  },
  {
   "cell_type": "code",
   "execution_count": 8,
   "id": "dbe3fbc2-1a3a-45ab-809e-aa58d017d58d",
   "metadata": {},
   "outputs": [
    {
     "name": "stdout",
     "output_type": "stream",
     "text": [
      "the area of the triangle is=21.0\n"
     ]
    }
   ],
   "source": [
    "base=7\n",
    "height=6\n",
    "area=(base*height)/2\n",
    "print(\"the area of the triangle is=\"+str(area))"
   ]
  },
  {
   "cell_type": "code",
   "execution_count": 2,
   "id": "6f5ebf29-daf3-4410-8596-727363bf7a9e",
   "metadata": {},
   "outputs": [
    {
     "name": "stdout",
     "output_type": "stream",
     "text": [
      "each person have to pay27.0\n"
     ]
    }
   ],
   "source": [
    "hotel_room=100\n",
    "tax=hotel_room*0.08\n",
    "total=hotel_room+tax\n",
    "room_guests=4\n",
    "share_per_person=total/room_guests\n",
    "print(\"each person have to pay\"+str(share_per_person))"
   ]
  },
  {
   "cell_type": "code",
   "execution_count": 6,
   "id": "0a50fada-c46a-40fe-b28e-72c4cb5d4feb",
   "metadata": {},
   "outputs": [
    {
     "name": "stdout",
     "output_type": "stream",
     "text": [
      "Dr. arpit kumar singh,Ph.D.\n",
      "Dr. arpit kumar singh , Ph.D.\n"
     ]
    }
   ],
   "source": [
    "salutation=\"Dr.\"\n",
    "first_name=\"arpit\"\n",
    "middle_name=\"kumar\"\n",
    "last_name=\"singh\"\n",
    "suffix=\"Ph.D.\"\n",
    "print(salutation+\" \"+first_name+\" \"+middle_name+\" \"+last_name+\",\"+suffix)\n",
    "print(salutation,first_name,middle_name,last_name,\",\",suffix)"
   ]
  },
  {
   "cell_type": "code",
   "execution_count": 10,
   "id": "e8158f94-5f74-4192-9d3f-5fb19c29ca1d",
   "metadata": {},
   "outputs": [
    {
     "name": "stdout",
     "output_type": "stream",
     "text": [
      "5*3=15\n",
      "5*3\n"
     ]
    }
   ],
   "source": [
    "#print(\"5*3=\"+(5*3)\n",
    "print(\"5*3=\"+str(5*3))\n",
    "print(\"5*3\")"
   ]
  },
  {
   "cell_type": "code",
   "execution_count": 16,
   "id": "56c31667-619d-4c85-8d76-b8365b1e9529",
   "metadata": {},
   "outputs": [
    {
     "name": "stdout",
     "output_type": "stream",
     "text": [
      "0.7\n"
     ]
    }
   ],
   "source": [
    "numerator=7\n",
    "denominator=10\n",
    "result=numerator/denominator\n",
    "print(result)"
   ]
  },
  {
   "cell_type": "code",
   "execution_count": 27,
   "id": "bd7a513b-98b5-48c6-8c86-363d0380cff7",
   "metadata": {},
   "outputs": [
    {
     "name": "stdout",
     "output_type": "stream",
     "text": [
      "welcome,key\n",
      "welcome,cameron\n"
     ]
    }
   ],
   "source": [
    "def greetings(name):\n",
    "    print(\"welcome,\" +name)\n",
    "greetings(\"key\")\n",
    "greetings(\"cameron\")"
   ]
  },
  {
   "cell_type": "code",
   "execution_count": 28,
   "id": "68f38f05-a694-4974-a588-e61d8f0c6bf1",
   "metadata": {},
   "outputs": [
    {
     "name": "stdout",
     "output_type": "stream",
     "text": [
      "welcome,black\n",
      "you are part ofsoftware engineering\n",
      "welcome,ellis\n",
      "you are part ofsoftware engineering\n"
     ]
    }
   ],
   "source": [
    "def greetings(name,department):\n",
    "    print(\"welcome,\"+name)\n",
    "    print(\"you are part of\"+department)\n",
    "    \n",
    "greetings(\"black\", \"software engineering\")\n",
    "greetings(\"ellis\", \"software engineering\")\n",
    "    "
   ]
  },
  {
   "cell_type": "code",
   "execution_count": 29,
   "id": "c2233763-7033-4251-a513-b3c63ff6fbff",
   "metadata": {},
   "outputs": [
    {
     "name": "stdout",
     "output_type": "stream",
     "text": [
      "investigate failed login attempt during september if more than 100\n"
     ]
    }
   ],
   "source": [
    "month=\"september\"\n",
    "print(\"investigate failed login attempt during\",month,\"if more than\",100)"
   ]
  },
  {
   "cell_type": "code",
   "execution_count": 30,
   "id": "9e2039c8-716b-4a04-aac5-b2742ca91107",
   "metadata": {},
   "outputs": [
    {
     "name": "stdout",
     "output_type": "stream",
     "text": [
      "<class 'str'>\n"
     ]
    }
   ],
   "source": [
    "print(type(\"this is a string\"))"
   ]
  },
  {
   "cell_type": "code",
   "execution_count": 31,
   "id": "b0cbd7f6-1390-42d9-ae9b-de87019b3230",
   "metadata": {},
   "outputs": [
    {
     "name": "stdout",
     "output_type": "stream",
     "text": [
      "12\n"
     ]
    }
   ],
   "source": [
    "number=12\n",
    "string_representations=str(number)\n",
    "print(string_representations)"
   ]
  },
  {
   "cell_type": "code",
   "execution_count": 32,
   "id": "df693fa4-a130-43ac-9f42-2856fd1d9e60",
   "metadata": {},
   "outputs": [
    {
     "name": "stdout",
     "output_type": "stream",
     "text": [
      "[2, 2, 3, 4, 12, 56]\n"
     ]
    }
   ],
   "source": [
    "time_lists=[12,2,3,56,4,2,]\n",
    "print(sorted(time_lists))"
   ]
  },
  {
   "cell_type": "code",
   "execution_count": 33,
   "id": "ccab0f63-8893-41b5-9055-0c187c4bbfcd",
   "metadata": {},
   "outputs": [
    {
     "name": "stdout",
     "output_type": "stream",
     "text": [
      "[1, 2, 3, 7, 9, 23, 34, 78]\n",
      "[34, 3, 2, 78, 23, 1, 9, 7]\n"
     ]
    }
   ],
   "source": [
    "time_lists=[34,3,2,78,23,1,9,7,]\n",
    "print(sorted(time_lists))\n",
    "print(time_lists)"
   ]
  },
  {
   "cell_type": "code",
   "execution_count": 35,
   "id": "e1cfbedc-2cbe-4a1d-9daa-a32eda00b9d9",
   "metadata": {},
   "outputs": [
    {
     "name": "stdout",
     "output_type": "stream",
     "text": [
      "98\n",
      "2\n"
     ]
    }
   ],
   "source": [
    "time_lists=[45,2,7,87,5,3,98,56]\n",
    "print(max(time_lists))\n",
    "print(min(time_lists))"
   ]
  },
  {
   "cell_type": "code",
   "execution_count": 38,
   "id": "f9fc7388-2bc5-40b7-8eb3-9c718e52bce0",
   "metadata": {},
   "outputs": [
    {
     "name": "stdout",
     "output_type": "stream",
     "text": [
      "the sum of both areas is:20.5\n"
     ]
    }
   ],
   "source": [
    "def area_triangle(base,height):\n",
    "    return base*height/2\n",
    "area_a=area_triangle(5,4)\n",
    "area_b=area_triangle(7,3)\n",
    "sum=area_a+area_b\n",
    "print(\"the sum of both areas is:\"+str(sum))\n",
    "\n"
   ]
  },
  {
   "cell_type": "code",
   "execution_count": 42,
   "id": "4a5915f3-8fd6-4141-89be-1314303090ec",
   "metadata": {},
   "outputs": [
    {
     "name": "stdout",
     "output_type": "stream",
     "text": [
      "welcome,christine\n",
      "None\n"
     ]
    }
   ],
   "source": [
    "def greeting(name):\n",
    "    print(\"welcome,\"+name)\n",
    "result=greeting(\"christine\")\n",
    "print(result)"
   ]
  },
  {
   "cell_type": "code",
   "execution_count": 1,
   "id": "dc9f571f-8441-4f7f-98a6-cdf7d9111287",
   "metadata": {},
   "outputs": [
    {
     "name": "stdout",
     "output_type": "stream",
     "text": [
      "1 23 20\n"
     ]
    }
   ],
   "source": [
    "def convert_seconds(seconds):\n",
    "    hours=seconds//3600\n",
    "    minutes=(seconds-hours*3600)//60\n",
    "    remaining_seconds=seconds-hours*3600-minutes*60\n",
    "    return hours,minutes,remaining_seconds\n",
    "hours,minutes,seconds=convert_seconds(5000)\n",
    "print(hours,minutes,seconds)"
   ]
  },
  {
   "cell_type": "code",
   "execution_count": 2,
   "id": "c6e2cc5e-febf-459c-bed6-5567508384ef",
   "metadata": {},
   "outputs": [
    {
     "name": "stdout",
     "output_type": "stream",
     "text": [
      "hellokey.your lucky number is27\n",
      "hellocameron.your lucky numberis63\n"
     ]
    }
   ],
   "source": [
    "name=\"key\"\n",
    "number=len(name)*9\n",
    "\n",
    "print(\"hello\"+name+\".your lucky number is\"+str(number))\n",
    "\n",
    "name=\"cameron\"\n",
    "number=len(name)*9\n",
    "\n",
    "print(\"hello\"+name+\".your lucky numberis\"+str(number))"
   ]
  },
  {
   "cell_type": "code",
   "execution_count": 2,
   "id": "43d27c4f-d44d-42f8-9eb3-e4b03a0d87ab",
   "metadata": {},
   "outputs": [
    {
     "name": "stdout",
     "output_type": "stream",
     "text": [
      "hellokey.your lucky number is27\n",
      "hellocaneron.your lucky number is63\n"
     ]
    }
   ],
   "source": [
    "def lucky_number(name):\n",
    "    number=len(name)*9\n",
    "    print(\"hello\" + name + \".your lucky number is\"+str(number))\n",
    "lucky_number(\"key\")\n",
    "lucky_number(\"caneron\")\n",
    "    "
   ]
  },
  {
   "cell_type": "code",
   "execution_count": 4,
   "id": "c3d47bad-3ca5-4f35-836a-547ea7e29669",
   "metadata": {},
   "outputs": [
    {
     "name": "stdout",
     "output_type": "stream",
     "text": [
      "9812.5\n"
     ]
    }
   ],
   "source": [
    "def calculate(d):\n",
    "    q=3.14\n",
    "    z=q*(d**5)\n",
    "    print(z)\n",
    "calculate(5)\n",
    "    "
   ]
  },
  {
   "cell_type": "code",
   "execution_count": 7,
   "id": "2bf536c5-e5eb-4802-b04e-8344f8b2d0f4",
   "metadata": {},
   "outputs": [
    {
     "name": "stdout",
     "output_type": "stream",
     "text": [
      "9812.5\n"
     ]
    }
   ],
   "source": [
    "def circle_area(radius):\n",
    "    pi=3.14\n",
    "    area=pi*(radius**5)\n",
    "    print(area)\n",
    "\n",
    "circle_area(5)"
   ]
  },
  {
   "cell_type": "code",
   "execution_count": 8,
   "id": "fe15c9e2-95d9-4f37-8677-0ac4a8e32b56",
   "metadata": {},
   "outputs": [
    {
     "name": "stdout",
     "output_type": "stream",
     "text": [
      "903\n"
     ]
    }
   ],
   "source": [
    "def find_total_days(years,months,days):\n",
    "    my_days=(years*365)+(months*30)+days\n",
    "    return my_days\n",
    "\n",
    "print(find_total_days(2,5,23))\n"
   ]
  },
  {
   "cell_type": "code",
   "execution_count": 11,
   "id": "45b99ca2-5e77-4eaa-b2d7-d8757f2573c6",
   "metadata": {},
   "outputs": [
    {
     "name": "stdout",
     "output_type": "stream",
     "text": [
      "the volume in milliliteres is.59.0\n",
      "the volume in milliliteres is.118.0\n"
     ]
    }
   ],
   "source": [
    "def convert_volume(fluid_once):\n",
    "    ml=fluid_once*29.5\n",
    "    return ml\n",
    "\n",
    "print(\"the volume in milliliteres is.\"+str(convert_volume(2)))\n",
    "print(\"the volume in milliliteres is.\"+str(convert_volume(2)*2))"
   ]
  },
  {
   "cell_type": "code",
   "execution_count": 12,
   "id": "3ac33d5f-af3d-48e7-8143-dde4e613c72d",
   "metadata": {},
   "outputs": [
    {
     "name": "stdout",
     "output_type": "stream",
     "text": [
      "True\n"
     ]
    }
   ],
   "source": [
    "print(10>1)"
   ]
  },
  {
   "cell_type": "code",
   "execution_count": 13,
   "id": "78b91164-8276-4836-83b5-fabb986868d1",
   "metadata": {},
   "outputs": [
    {
     "name": "stdout",
     "output_type": "stream",
     "text": [
      "False\n"
     ]
    }
   ],
   "source": [
    "print(\"yellow\">\"cyan\"and\"brown\">\"magenta\")"
   ]
  },
  {
   "cell_type": "code",
   "execution_count": 14,
   "id": "99ca3f03-e97c-42df-b445-18aff65b05a5",
   "metadata": {},
   "outputs": [
    {
     "name": "stdout",
     "output_type": "stream",
     "text": [
      "True\n"
     ]
    }
   ],
   "source": [
    "print((3*5>=15)and(9+9<=36/2))"
   ]
  },
  {
   "cell_type": "code",
   "execution_count": 18,
   "id": "18e10598-b7b5-451b-9d03-fd0b58588d45",
   "metadata": {},
   "outputs": [
    {
     "name": "stdout",
     "output_type": "stream",
     "text": [
      "False\n"
     ]
    }
   ],
   "source": [
    "print((\"saransh\">\"arpit\")and(\"arpit\">\"saransh\"))"
   ]
  },
  {
   "cell_type": "code",
   "execution_count": 20,
   "id": "8393a7b7-a3a8-4242-b9a3-7146e0b2fe58",
   "metadata": {},
   "outputs": [
    {
     "name": "stdout",
     "output_type": "stream",
     "text": [
      "True\n",
      "True\n",
      "True\n"
     ]
    }
   ],
   "source": [
    "country=\"usa\"\n",
    "city=\"new york city\"\n",
    "print((15/3<2+4)or(0>=6-7))\n",
    "print(country==\"new york city\"or city==\"new york city\")\n",
    "print(16<=4**2 or 9**(0.5)==3)"
   ]
  },
  {
   "cell_type": "code",
   "execution_count": 21,
   "id": "49e20f7e-1041-48af-868c-0a171ed28625",
   "metadata": {},
   "outputs": [
    {
     "name": "stdout",
     "output_type": "stream",
     "text": [
      "the valueof x is:\n",
      "False\n",
      " \n",
      "the inverse value of x is:\n",
      "True\n"
     ]
    }
   ],
   "source": [
    "x=2*3>6\n",
    "print(\"the valueof x is:\")\n",
    "print(x)\n",
    "print(\" \")\n",
    "print(\"the inverse value of x is:\")\n",
    "print(not x)"
   ]
  },
  {
   "cell_type": "code",
   "execution_count": 22,
   "id": "03e7b7d6-7d7c-4123-9f32-5c63a7797bfd",
   "metadata": {},
   "outputs": [
    {
     "name": "stdout",
     "output_type": "stream",
     "text": [
      "True\n"
     ]
    }
   ],
   "source": [
    "today=\"monday\"\n",
    "print(not today==\"tuesday\")"
   ]
  },
  {
   "cell_type": "code",
   "execution_count": 1,
   "id": "cbe4882c-510a-464c-83bf-4e9844e112c0",
   "metadata": {},
   "outputs": [
    {
     "name": "stdout",
     "output_type": "stream",
     "text": [
      "provide it suppport to employees\n"
     ]
    }
   ],
   "source": [
    "def task_reminder(time_as_string):\n",
    "    if time_as_string==\"8:00a.m.\":\n",
    "        task=\"check overnight backup images\"\n",
    "    elif time_as_string==\"11:30a.m.\":\n",
    "        task=\"run tps report\"\n",
    "    elif time_as_string==\"5:30p.m.\":\n",
    "        task=\"reboot servers\"\n",
    "    else:\n",
    "        task=\"provide it suppport to employees\"\n",
    "    return task\n",
    "print(task_reminder(\"10:00a.m.\"))"
   ]
  },
  {
   "cell_type": "code",
   "execution_count": 2,
   "id": "2edea38d-984b-4f9d-a521-0a98e9830840",
   "metadata": {},
   "outputs": [
    {
     "name": "stdout",
     "output_type": "stream",
     "text": [
      "0.3333333333333333\n"
     ]
    }
   ],
   "source": [
    "def get_remainder(x,y):\n",
    "\n",
    "    if x==0 or y==0 or x==y:\n",
    "        remainder=0\n",
    "    else:\n",
    "        remainder=(x%y)/y\n",
    "    return remainder\n",
    "print(get_remainder(10,3))"
   ]
  },
  {
   "cell_type": "code",
   "execution_count": 3,
   "id": "d5187a8a-4b0f-4a91-8548-02b08392c568",
   "metadata": {},
   "outputs": [
    {
     "name": "stdout",
     "output_type": "stream",
     "text": [
      "120\n"
     ]
    }
   ],
   "source": [
    "def product(a,b):\n",
    "    return(a*b)\n",
    "\n",
    "print(product(product(2,4),product(3,5)))"
   ]
  },
  {
   "cell_type": "code",
   "execution_count": 4,
   "id": "50460a26-bb87-4ec4-9373-07d3827d8557",
   "metadata": {},
   "outputs": [
    {
     "name": "stdout",
     "output_type": "stream",
     "text": [
      "-2\n"
     ]
    }
   ],
   "source": [
    "def difference(a,b):\n",
    "    return(a-b)\n",
    "def sum(a,b):\n",
    "    return(a+b)\n",
    "print(difference(sum(2,2),sum(3,3)))"
   ]
  },
  {
   "cell_type": "code",
   "execution_count": 10,
   "id": "e7941744-4449-4d98-8ff6-a47c7a345e34",
   "metadata": {},
   "outputs": [
    {
     "name": "stdout",
     "output_type": "stream",
     "text": [
      "not there yet x=0\n",
      "x=1\n",
      "not there yet x=1\n",
      "x=2\n",
      "not there yet x=2\n",
      "x=3\n",
      "not there yet x=3\n",
      "x=4\n",
      "not there yet x=4\n",
      "x=5\n"
     ]
    }
   ],
   "source": [
    "x=0\n",
    "while x<5:\n",
    "    print(\"not there yet x=\"+str(x))\n",
    "    x=x+1\n",
    "    print(\"x=\"+str(x))"
   ]
  },
  {
   "cell_type": "code",
   "execution_count": 17,
   "id": "ba628382-b480-487d-a400-dc215b97dd88",
   "metadata": {},
   "outputs": [
    {
     "name": "stdout",
     "output_type": "stream",
     "text": [
      "attempt5\n",
      "attempt5\n",
      "attempt5\n",
      "attempt5\n",
      "attempt5\n",
      "done\n"
     ]
    }
   ],
   "source": [
    "def attempts(n):\n",
    "    x=1\n",
    "    while x<=n:\n",
    "        print(\"attempt\"+str(5))\n",
    "        x+=1\n",
    "    print(\"done\")\n",
    "attempts(5)    "
   ]
  },
  {
   "cell_type": "code",
   "execution_count": 20,
   "id": "f4a29d8c-7ed0-4f36-9a4d-8b71d8ecec2e",
   "metadata": {},
   "outputs": [
    {
     "name": "stdout",
     "output_type": "stream",
     "text": [
      "hello8\n",
      "hello8\n",
      "hello8\n",
      "hello8\n",
      "hello8\n"
     ]
    }
   ],
   "source": [
    "my_variable=5\n",
    "while my_variable<10:\n",
    "    print(\"hello\"+str(8))\n",
    "    my_variable+=1"
   ]
  },
  {
   "cell_type": "code",
   "execution_count": 21,
   "id": "1bff02b2-ba58-4763-9c44-4b30e0230874",
   "metadata": {},
   "outputs": [
    {
     "name": "stdout",
     "output_type": "stream",
     "text": [
      "45 1\n"
     ]
    }
   ],
   "source": [
    "x=1\n",
    "sum=0\n",
    "while x<10:\n",
    "    sum=sum+x\n",
    "    x=x+1\n",
    "product=1\n",
    "while x<10:\n",
    "    product=product*x\n",
    "    x=x+1\n",
    "print(sum,product)    "
   ]
  },
  {
   "cell_type": "code",
   "execution_count": 1,
   "id": "22a16562-ec2b-4dc1-9b70-fbc779264980",
   "metadata": {},
   "outputs": [
    {
     "name": "stdout",
     "output_type": "stream",
     "text": [
      "done\n"
     ]
    }
   ],
   "source": [
    "multiplier=1\n",
    "result=multiplier*5\n",
    "while result>=50:\n",
    "    print(result)\n",
    "    multiplier+=1\n",
    "    result=multiplier*5\n",
    "print(\"done\")    "
   ]
  },
  {
   "cell_type": "code",
   "execution_count": 7,
   "id": "60ed7f55-aae6-4a05-8c7e-acdb7070219a",
   "metadata": {},
   "outputs": [
    {
     "ename": "NameError",
     "evalue": "name 'iterative_number' is not defined",
     "output_type": "error",
     "traceback": [
      "\u001b[1;31m---------------------------------------------------------------------------\u001b[0m",
      "\u001b[1;31mNameError\u001b[0m                                 Traceback (most recent call last)",
      "Cell \u001b[1;32mIn[7], line 1\u001b[0m\n\u001b[1;32m----> 1\u001b[0m \u001b[38;5;28;01mwhile\u001b[39;00m iterative_number\u001b[38;5;241m<\u001b[39m\u001b[38;5;241m=\u001b[39m\u001b[38;5;241m5\u001b[39m:\n\u001b[0;32m      2\u001b[0m     my_sum\u001b[38;5;241m=\u001b[39mgiven_number\u001b[38;5;241m+\u001b[39miterated_number\n\u001b[0;32m      3\u001b[0m     \u001b[38;5;28;01mif\u001b[39;00m my_sum\u001b[38;5;241m>\u001b[39m\u001b[38;5;241m20\u001b[39m:\n",
      "\u001b[1;31mNameError\u001b[0m: name 'iterative_number' is not defined"
     ]
    }
   ],
   "source": [
    "while iterative_number<=5:\n",
    "    my_sum=given_number+iterated_number\n",
    "    if my_sum>20:\n",
    "        break\n",
    "    print(str(given_number),\"+\",str(iterated_number),\"=\",str(my_sum))\n",
    "iterative_number+=1\n",
    "\n",
    "addition_table(5)\n",
    "addition_table(17)\n",
    "addition_table(30)"
   ]
  },
  {
   "cell_type": "code",
   "execution_count": 1,
   "id": "9d799bfc-c8f1-43a5-9183-246998cebcfb",
   "metadata": {},
   "outputs": [
    {
     "name": "stdout",
     "output_type": "stream",
     "text": [
      "0\n",
      "1\n",
      "2\n",
      "3\n",
      "4\n"
     ]
    }
   ],
   "source": [
    "for x in range(5):\n",
    "    print(x)"
   ]
  },
  {
   "cell_type": "code",
   "execution_count": 3,
   "id": "b0315433-7828-485d-af44-3b5854f5d202",
   "metadata": {},
   "outputs": [
    {
     "ename": "SyntaxError",
     "evalue": "expected '(' (3417335655.py, line 1)",
     "output_type": "error",
     "traceback": [
      "\u001b[1;36m  Cell \u001b[1;32mIn[3], line 1\u001b[1;36m\u001b[0m\n\u001b[1;33m    def friends\u001b[0m\n\u001b[1;37m               ^\u001b[0m\n\u001b[1;31mSyntaxError\u001b[0m\u001b[1;31m:\u001b[0m expected '('\n"
     ]
    }
   ],
   "source": [
    "def friends\n",
    "friends=['taylor','alex','pat','eli']\n",
    "for friends in friends:\n",
    "    print(\"hi\"+friend)"
   ]
  },
  {
   "cell_type": "code",
   "execution_count": 6,
   "id": "5f7491cb-3ff9-403c-8a8c-70f46c25bfd2",
   "metadata": {},
   "outputs": [
    {
     "name": "stdout",
     "output_type": "stream",
     "text": [
      "total sum:219-average:43.8\n"
     ]
    }
   ],
   "source": [
    "values=[23,52,59,37,48]\n",
    "sum=0 \n",
    "lenght=0\n",
    "for value in values:\n",
    "    sum+=value\n",
    "    lenght+=1\n",
    "print(\"total sum:\"+str(sum)+\"-average:\"+str(sum/lenght))    "
   ]
  },
  {
   "cell_type": "code",
   "execution_count": 4,
   "id": "bfa1f4f7-3918-44e3-ab45-a571db49d8ad",
   "metadata": {},
   "outputs": [
    {
     "name": "stdout",
     "output_type": "stream",
     "text": [
      "name:sashacolour:gold\n"
     ]
    }
   ],
   "source": [
    "name =\"sasha\"\n",
    "colour ='gold'\n",
    "print(\"name:\"+name+ \"colour:\"+colour)"
   ]
  },
  {
   "cell_type": "code",
   "execution_count": 8,
   "id": "080ea2cc-e72d-4e18-ac3a-0c56d79a285e",
   "metadata": {},
   "outputs": [
    {
     "name": "stdout",
     "output_type": "stream",
     "text": [
      "24\n"
     ]
    }
   ],
   "source": [
    "pet =\"100000000000000000000cat\"\n",
    "print(len(pet))"
   ]
  },
  {
   "cell_type": "code",
   "execution_count": 10,
   "id": "cfc58d2a-6b15-4955-8d38-7ca33f35d1d4",
   "metadata": {},
   "outputs": [
    {
     "name": "stdout",
     "output_type": "stream",
     "text": [
      "d\n",
      "t\n",
      "adi\n"
     ]
    }
   ],
   "source": [
    "name = \"aditya\"\n",
    "print(name[1])\n",
    "print(name[3])\n",
    "print(name[0:3])"
   ]
  },
  {
   "cell_type": "code",
   "execution_count": 13,
   "id": "7939582a-9496-49c0-b360-9efe67b69e56",
   "metadata": {},
   "outputs": [
    {
     "name": "stdout",
     "output_type": "stream",
     "text": [
      "i\n",
      " adi\n"
     ]
    }
   ],
   "source": [
    "text = \" aditya is a very good boy\"\n",
    "print(text[3])\n",
    "print(text[:4])"
   ]
  },
  {
   "cell_type": "code",
   "execution_count": 19,
   "id": "14d31b14-94f7-4f58-ab2e-4c7c85b96714",
   "metadata": {},
   "outputs": [
    {
     "name": "stdout",
     "output_type": "stream",
     "text": [
      " a boyarpit is a girl\n"
     ]
    }
   ],
   "source": [
    "massage=\"arpit is a girl\"\n",
    "new_massage=massage[8:11]+\"boy\"+massage[:]\n",
    "print(new_massage)"
   ]
  },
  {
   "cell_type": "code",
   "execution_count": 3,
   "id": "51bbae5f-60d4-4d1f-ad03-acc90200881e",
   "metadata": {},
   "outputs": [
    {
     "data": {
      "text/plain": [
       "4"
      ]
     },
     "execution_count": 3,
     "metadata": {},
     "output_type": "execute_result"
    }
   ],
   "source": [
    "animals = \" lions and tiger \"\n",
    "animals.index(\"n\")\n"
   ]
  },
  {
   "cell_type": "code",
   "execution_count": 5,
   "id": "566c7a0c-43ea-49da-8a5a-26f54c7c7e69",
   "metadata": {},
   "outputs": [
    {
     "data": {
      "text/plain": [
       "True"
      ]
     },
     "execution_count": 5,
     "metadata": {},
     "output_type": "execute_result"
    }
   ],
   "source": [
    "animals = \" tiger is very dangerous animal \"\n",
    "\"tiger\" in animals"
   ]
  },
  {
   "cell_type": "code",
   "execution_count": 6,
   "id": "7141bd76-54ce-4d46-9cc4-81fa1db4b11f",
   "metadata": {},
   "outputs": [
    {
     "data": {
      "text/plain": [
       "False"
      ]
     },
     "execution_count": 6,
     "metadata": {},
     "output_type": "execute_result"
    }
   ],
   "source": [
    "animals = \" lion is the king of jungle \"\n",
    "\"elephant\" in animals\n"
   ]
  },
  {
   "cell_type": "code",
   "execution_count": 10,
   "id": "0d903968-4c93-4018-b6ca-3c28be74b387",
   "metadata": {},
   "outputs": [
    {
     "name": "stdout",
     "output_type": "stream",
     "text": [
      "yes you said\n"
     ]
    }
   ],
   "source": [
    "answer = \"yes\"\n",
    "if answer.lower() == \"yes\":\n",
    "    print(\"yes you said\")"
   ]
  },
  {
   "cell_type": "code",
   "execution_count": 15,
   "id": "6530f3f7-d95a-4214-9d68-4658888add0a",
   "metadata": {},
   "outputs": [
    {
     "data": {
      "text/plain": [
       "'yes'"
      ]
     },
     "execution_count": 15,
     "metadata": {},
     "output_type": "execute_result"
    }
   ],
   "source": [
    "\"yes\".strip()\n",
    "\"yes\".lstrip()\n",
    "\"yes\".rstrip()"
   ]
  },
  {
   "cell_type": "code",
   "execution_count": 17,
   "id": "26f22527-bdbe-45dd-bdf0-460f2ecc80f5",
   "metadata": {},
   "outputs": [
    {
     "data": {
      "text/plain": [
       "True"
      ]
     },
     "execution_count": 17,
     "metadata": {},
     "output_type": "execute_result"
    }
   ],
   "source": [
    "\"forest\".endswith(\"rest\")"
   ]
  },
  {
   "cell_type": "code",
   "execution_count": 20,
   "id": "fa537159-71ce-46d1-9304-a5cdd94793ba",
   "metadata": {},
   "outputs": [
    {
     "data": {
      "text/plain": [
       "True"
      ]
     },
     "execution_count": 20,
     "metadata": {},
     "output_type": "execute_result"
    }
   ],
   "source": [
    "\"forest\".isnumeric()\n",
    "\"12344\".isnumeric()"
   ]
  },
  {
   "cell_type": "code",
   "execution_count": 21,
   "id": "8dd4c944-9bd5-4cc3-b549-f3eddf12f5cf",
   "metadata": {},
   "outputs": [
    {
     "data": {
      "text/plain": [
       "2801"
      ]
     },
     "execution_count": 21,
     "metadata": {},
     "output_type": "execute_result"
    }
   ],
   "source": [
    "int(\"2345\") + int(\"456\")"
   ]
  },
  {
   "cell_type": "code",
   "execution_count": 25,
   "id": "4ba59681-15e2-4b77-a688-3018d2404876",
   "metadata": {},
   "outputs": [
    {
     "name": "stdout",
     "output_type": "stream",
     "text": [
      "6\n"
     ]
    }
   ],
   "source": [
    "print(len(\"adfadf\"))"
   ]
  },
  {
   "cell_type": "code",
   "execution_count": 28,
   "id": "7fc38545-f22c-4757-9e71-4eebe9bd8287",
   "metadata": {},
   "outputs": [
    {
     "name": "stdout",
     "output_type": "stream",
     "text": [
      "c\n",
      "c\n",
      "c\n",
      "c\n"
     ]
    }
   ],
   "source": [
    "for c in \"abcd\":\n",
    "    print(\"c\")"
   ]
  },
  {
   "cell_type": "code",
   "execution_count": 31,
   "id": "f28dc8eb-e3e4-44ad-b92b-133abbdfc274",
   "metadata": {},
   "outputs": [
    {
     "name": "stdout",
     "output_type": "stream",
     "text": [
      "True\n",
      "False\n"
     ]
    }
   ],
   "source": [
    "print(\"abc\" in \"abcdef\")\n",
    "print(\"zys\" in \"abcde\")"
   ]
  },
  {
   "cell_type": "code",
   "execution_count": 34,
   "id": "ca43c2ea-e6b1-40e9-a9e0-d08ec6ac77eb",
   "metadata": {},
   "outputs": [
    {
     "name": "stdout",
     "output_type": "stream",
     "text": [
      "c\n",
      "d\n"
     ]
    }
   ],
   "source": [
    "print(\"abcd\"[2])\n",
    "print(\"xcxzvdg\"[5])"
   ]
  },
  {
   "cell_type": "code",
   "execution_count": 36,
   "id": "fe526037-4146-4def-ab4c-e3da6acd4cfa",
   "metadata": {},
   "outputs": [
    {
     "name": "stdout",
     "output_type": "stream",
     "text": [
      "cde\n",
      "cxxvc\n"
     ]
    }
   ],
   "source": [
    "print(\"abcdefgh\"[2:5])\n",
    "print(\"cxxvccx\"[:5])"
   ]
  },
  {
   "cell_type": "code",
   "execution_count": 8,
   "id": "8c077e03-a51d-4de7-aab8-45b4d2598e18",
   "metadata": {},
   "outputs": [
    {
     "name": "stdout",
     "output_type": "stream",
     "text": [
      "[2, 3, 4, 56, 6]\n",
      "5\n",
      "[2, 3, 4]\n",
      "[3]\n"
     ]
    }
   ],
   "source": [
    "s = [2,3,4,56,6]\n",
    "print(s)\n",
    "print(len(s))\n",
    "print(s[:3])\n",
    "5 in s\n",
    "print(s[1:2])\n"
   ]
  },
  {
   "cell_type": "code",
   "execution_count": 9,
   "id": "d1bdbd8d-516f-48ff-8889-c55eeee3ccb5",
   "metadata": {},
   "outputs": [
    {
     "name": "stdout",
     "output_type": "stream",
     "text": [
      "['apple', 'mango', 'graoes', 'papaya', 'kiwi']\n"
     ]
    }
   ],
   "source": [
    "fruits = ['apple','mango','graoes','papaya']\n",
    "fruits.append('kiwi')\n",
    "print(fruits)"
   ]
  },
  {
   "cell_type": "code",
   "execution_count": 12,
   "id": "17cc5cbb-4cdb-47ec-bd23-d06a69b71916",
   "metadata": {},
   "outputs": [
    {
     "name": "stdout",
     "output_type": "stream",
     "text": [
      "['pineapple', 'orange', 'papaya', 'hrages', 'roses']\n"
     ]
    }
   ],
   "source": [
    "fruits = ['pineapple','mango','hrages','roses']\n",
    "fruits.insert(1,'orange')\n",
    "fruits.insert(2,'papaya')\n",
    "fruits.remove('mango')\n",
    "print(fruits)"
   ]
  },
  {
   "cell_type": "code",
   "execution_count": 16,
   "id": "8bb4de5a-f40f-4d16-bff9-7b9e7558ef53",
   "metadata": {},
   "outputs": [
    {
     "name": "stdout",
     "output_type": "stream",
     "text": [
      "total character: 24,average lenght:6.0\n"
     ]
    }
   ],
   "source": [
    "animals = ['lions','tiger','giraffe','dolphin']\n",
    "chars=0\n",
    "for animal in animals:\n",
    "    chars+= len(animal)\n",
    "\n",
    "print(\"total character: {},average lenght:{}\".format(chars,chars/len(animals)))"
   ]
  },
  {
   "cell_type": "code",
   "execution_count": 17,
   "id": "9a626f29-724e-4b34-bea1-0857e8442615",
   "metadata": {},
   "outputs": [
    {
     "name": "stdout",
     "output_type": "stream",
     "text": [
      "(1, 2, 3, 4, 5, 6)\n",
      "(1, 3, 4, 5, 2)\n"
     ]
    }
   ],
   "source": [
    "my_list = [1,2,3,4,5,6]\n",
    "my_tuple = tuple(my_list)\n",
    "\n",
    "print(my_tuple)\n",
    "my_tuple = 1,3,4,5,2\n",
    "print(my_tuple)"
   ]
  },
  {
   "cell_type": "code",
   "execution_count": 23,
   "id": "07e5e862-8383-4581-a1b4-fc6b51b85055",
   "metadata": {},
   "outputs": [
    {
     "name": "stdout",
     "output_type": "stream",
     "text": [
      "['a', 'b', 'x', 'c', 'd', 'e']\n"
     ]
    }
   ],
   "source": [
    "my_tuple = ['a','b','c','d','e']\n",
    "my_tuple[2:0] = 'x'\n",
    "print(my_tuple)"
   ]
  },
  {
   "cell_type": "code",
   "execution_count": 26,
   "id": "65b86a49-14be-4ac3-8f6c-5864ad6adb39",
   "metadata": {},
   "outputs": [
    {
     "name": "stdout",
     "output_type": "stream",
     "text": [
      "(1, 2, 3, 4, 5, 6)\n",
      "(1, 2, 3, 4, 5, 6)\n"
     ]
    }
   ],
   "source": [
    "my_list = [1,2,3,4,5,6]\n",
    "my_tuple =tuple(my_list)\n",
    "print(my_tuple)\n",
    "my_tuple=1,2,3,4,5,6\n",
    "print(my_tuple)\n"
   ]
  },
  {
   "cell_type": "code",
   "execution_count": 28,
   "id": "c9999c52-7426-4162-abd3-ddd9ab4bf852",
   "metadata": {},
   "outputs": [
    {
     "name": "stdout",
     "output_type": "stream",
     "text": [
      "(12, 8)\n"
     ]
    }
   ],
   "source": [
    "def calculate_numbers(a,b):\n",
    "    return a+b,a-b\n",
    "\n",
    "result = calculate_numbers(10,2)\n",
    "print(result)\n",
    "\n"
   ]
  },
  {
   "cell_type": "code",
   "execution_count": 30,
   "id": "3e9efebd-89b0-4bc9-af97-2d1881fa7807",
   "metadata": {},
   "outputs": [
    {
     "name": "stdout",
     "output_type": "stream",
     "text": [
      "12\n",
      "8\n"
     ]
    }
   ],
   "source": [
    "def calculate_numbers(a,b):\n",
    "    return a+b,a-b\n",
    "\n",
    "add_result,sub_result = calculate_numbers(10,2)\n",
    "print(add_result)\n",
    "print(sub_result)\n",
    "\n"
   ]
  },
  {
   "cell_type": "code",
   "execution_count": null,
   "id": "0c050d16-8818-4afd-9475-a9eaf2b1c35d",
   "metadata": {},
   "outputs": [],
   "source": []
  }
 ],
 "metadata": {
  "kernelspec": {
   "display_name": "Python 3 (ipykernel)",
   "language": "python",
   "name": "python3"
  },
  "language_info": {
   "codemirror_mode": {
    "name": "ipython",
    "version": 3
   },
   "file_extension": ".py",
   "mimetype": "text/x-python",
   "name": "python",
   "nbconvert_exporter": "python",
   "pygments_lexer": "ipython3",
   "version": "3.12.7"
  }
 },
 "nbformat": 4,
 "nbformat_minor": 5
}
