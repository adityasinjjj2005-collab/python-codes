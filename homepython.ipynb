{
 "cells": [
  {
   "cell_type": "code",
   "execution_count": 1,
   "id": "dd4d193d-dcb7-4f29-a4ae-1d846f28db6e",
   "metadata": {},
   "outputs": [
    {
     "name": "stdout",
     "output_type": "stream",
     "text": [
      "1\n",
      "2\n",
      "3\n",
      "4\n",
      "5\n",
      "6\n",
      "7\n",
      "8\n",
      "9\n"
     ]
    }
   ],
   "source": [
    "for i in range(1,10):\n",
    "    print(i)"
   ]
  },
  {
   "cell_type": "code",
   "execution_count": 4,
   "id": "7d1443cf-3d4a-4651-b0f5-919d5bbdd0bb",
   "metadata": {},
   "outputs": [
    {
     "name": "stdout",
     "output_type": "stream",
     "text": [
      "0\n",
      "1\n",
      "2\n",
      "3\n",
      "4\n",
      "5\n",
      "6\n",
      "7\n",
      "8\n",
      "9\n",
      "10\n"
     ]
    }
   ],
   "source": [
    "for i in range(11):\n",
    "    print(i)"
   ]
  },
  {
   "cell_type": "code",
   "execution_count": 8,
   "id": "cfcc564d-293b-4f39-89e7-5c1f044a457e",
   "metadata": {},
   "outputs": [
    {
     "name": "stdout",
     "output_type": "stream",
     "text": [
      "100\n"
     ]
    }
   ],
   "source": [
    "n = 100\n",
    "if(n%10)==0:\n",
    "    print(n)\n",
    "else:\n",
    "    print()"
   ]
  },
  {
   "cell_type": "code",
   "execution_count": 28,
   "id": "ef78af29-5900-445a-88c0-c176f2fd9012",
   "metadata": {},
   "outputs": [
    {
     "name": "stdout",
     "output_type": "stream",
     "text": [
      "0\n",
      "not divisable\n",
      "not divisable\n",
      "not divisable\n",
      "not divisable\n",
      "not divisable\n",
      "not divisable\n",
      "not divisable\n",
      "not divisable\n",
      "not divisable\n",
      "10\n",
      "not divisable\n",
      "not divisable\n",
      "not divisable\n",
      "not divisable\n",
      "not divisable\n",
      "not divisable\n",
      "not divisable\n",
      "not divisable\n",
      "not divisable\n",
      "20\n",
      "not divisable\n",
      "not divisable\n",
      "not divisable\n",
      "not divisable\n",
      "not divisable\n",
      "not divisable\n",
      "not divisable\n",
      "not divisable\n",
      "not divisable\n",
      "30\n",
      "not divisable\n",
      "not divisable\n",
      "not divisable\n",
      "not divisable\n",
      "not divisable\n",
      "not divisable\n",
      "not divisable\n",
      "not divisable\n",
      "not divisable\n",
      "40\n",
      "not divisable\n",
      "not divisable\n",
      "not divisable\n",
      "not divisable\n",
      "not divisable\n",
      "not divisable\n",
      "not divisable\n",
      "not divisable\n",
      "not divisable\n",
      "50\n",
      "not divisable\n",
      "not divisable\n",
      "not divisable\n",
      "not divisable\n",
      "not divisable\n",
      "not divisable\n",
      "not divisable\n",
      "not divisable\n",
      "not divisable\n",
      "60\n",
      "not divisable\n",
      "not divisable\n",
      "not divisable\n",
      "not divisable\n",
      "not divisable\n",
      "not divisable\n",
      "not divisable\n",
      "not divisable\n",
      "not divisable\n",
      "70\n",
      "not divisable\n",
      "not divisable\n",
      "not divisable\n",
      "not divisable\n",
      "not divisable\n",
      "not divisable\n",
      "not divisable\n",
      "not divisable\n",
      "not divisable\n",
      "80\n",
      "not divisable\n",
      "not divisable\n",
      "not divisable\n",
      "not divisable\n",
      "not divisable\n",
      "not divisable\n",
      "not divisable\n",
      "not divisable\n",
      "not divisable\n",
      "90\n",
      "not divisable\n",
      "not divisable\n",
      "not divisable\n",
      "not divisable\n",
      "not divisable\n",
      "not divisable\n",
      "not divisable\n",
      "not divisable\n",
      "not divisable\n"
     ]
    }
   ],
   "source": [
    "for i in range(100):\n",
    "    if(i%10)==0:\n",
    "        print(i)\n",
    "    else:\n",
    "        print(\"not divisable\")"
   ]
  },
  {
   "cell_type": "code",
   "execution_count": 15,
   "id": "c07cccd7-dee8-4053-9ed6-ef758bccae19",
   "metadata": {},
   "outputs": [
    {
     "data": {
      "text/plain": [
       "'mic'"
      ]
     },
     "execution_count": 15,
     "metadata": {},
     "output_type": "execute_result"
    }
   ],
   "source": [
    " items =[ \"mic\",\"laptop\",\"speaker\",\"mobile\"]\n",
    "items[0]"
   ]
  },
  {
   "cell_type": "code",
   "execution_count": 1,
   "id": "75e7cabf-6b53-4c3a-873c-f9a8c99b35f3",
   "metadata": {},
   "outputs": [
    {
     "name": "stdout",
     "output_type": "stream",
     "text": [
      "[2, 4, 6, 8, 10, 12, 14, 16, 18, 20, 22, 24, 26, 28, 30]\n"
     ]
    },
    {
     "data": {
      "text/plain": [
       "[6, 8]"
      ]
     },
     "execution_count": 1,
     "metadata": {},
     "output_type": "execute_result"
    }
   ],
   "source": [
    "items=[2,4,6,8,10,12,14,16,18,20,22,24,26,28,30]\n",
    "print(items)\n",
    "items[-1],[-2],\n",
    "items[0:2]\n",
    "items[2:4]"
   ]
  },
  {
   "cell_type": "code",
   "execution_count": 1,
   "id": "b7ca9c70-1a10-4649-8e26-58edec4bcb45",
   "metadata": {
    "scrolled": true
   },
   "outputs": [
    {
     "ename": "SyntaxError",
     "evalue": "unexpected character after line continuation character (1022383998.py, line 7)",
     "output_type": "error",
     "traceback": [
      "\u001b[1;36m  Cell \u001b[1;32mIn[1], line 7\u001b[1;36m\u001b[0m\n\u001b[1;33m    print(\\n enter 'y' if you completed the task,'n' if not.\\n\")\u001b[0m\n\u001b[1;37m           ^\u001b[0m\n\u001b[1;31mSyntaxError\u001b[0m\u001b[1;31m:\u001b[0m unexpected character after line continuation character\n"
     ]
    }
   ],
   "source": [
    "tasks = [\"complete math homework\",\"learn english\",\"read book\"]\n",
    "completed_tasks=[]\n",
    "incompleted_tasks=[]\n",
    "print(\"today's tasks:\")\n",
    "for i, task in enumerate(tasks,start=1):\n",
    "    print(f\"{i}.{task}\")\n",
    "print(\\n enter 'y' if you completed the task,'n' if not.\\n\")\n",
    "for task in task:\n",
    "    status = input(f\"did you complete'{task}'?(y/n:\").strip().lower()\n",
    "    if status == 'y':\n",
    "        completed_tasks.append(task)\n",
    "    else:\n",
    "        incomplete_tasks.append(task)\n",
    "print(\"\\n=====daily summary=====\")\n",
    "if completed_tasks:\n",
    "    print(\"completed task:\")\n",
    "    for task in completed_tasks:\n",
    "        print(f\"-{tasks}\")\n",
    "else:\n",
    "    print(\"no tasks completed\")\n",
    "if incomplete_tasks:\n",
    "    print(\"incomplete task:\")\n",
    "    for task in incomplete_tasks:\n",
    "        print(f\"-{tasks}\")\n",
    "else:\n",
    "    print(\"\\n all task completed\")"
   ]
  },
  {
   "cell_type": "markdown",
   "id": "5006ba2a-cadd-4b38-81df-172115258505",
   "metadata": {},
   "source": [
    "Functions-basics \n"
   ]
  },
  {
   "cell_type": "code",
   "execution_count": 2,
   "id": "c2ccc58c-f152-43f8-8141-b22352ce3208",
   "metadata": {},
   "outputs": [
    {
     "name": "stdout",
     "output_type": "stream",
     "text": [
      "hello david\n"
     ]
    }
   ],
   "source": [
    "print(\"hello david\")"
   ]
  },
  {
   "cell_type": "code",
   "execution_count": 3,
   "id": "d3583e22-65ed-4628-a344-705f3a87a92c",
   "metadata": {},
   "outputs": [],
   "source": [
    "def hello():\n",
    "    print(\"hello world\")"
   ]
  },
  {
   "cell_type": "code",
   "execution_count": 6,
   "id": "45bc6a3c-61ae-4ac0-8b45-0cbcfb120748",
   "metadata": {},
   "outputs": [
    {
     "name": "stdout",
     "output_type": "stream",
     "text": [
      "hello world\n"
     ]
    }
   ],
   "source": [
    "hello()"
   ]
  },
  {
   "cell_type": "code",
   "execution_count": 7,
   "id": "8554b2ef-478b-47cc-a336-92ec72ba4cdd",
   "metadata": {},
   "outputs": [],
   "source": [
    "def hello(name):\n",
    "    print(f\"hello-{name}\")"
   ]
  },
  {
   "cell_type": "code",
   "execution_count": 9,
   "id": "e357e134-ce49-4be3-815e-5187defbf52b",
   "metadata": {},
   "outputs": [
    {
     "name": "stdout",
     "output_type": "stream",
     "text": [
      "hello-aditya\n"
     ]
    }
   ],
   "source": [
    "hello(\"aditya\")"
   ]
  },
  {
   "cell_type": "code",
   "execution_count": 25,
   "id": "8f923b64-b9f1-4381-8728-0a0c76b42741",
   "metadata": {},
   "outputs": [
    {
     "name": "stdout",
     "output_type": "stream",
     "text": [
      "new delhi is the capital of the india\n"
     ]
    }
   ],
   "source": [
    "country =\"india\"\n",
    "capital =\"new delhi\"\n",
    "print(f\"{capital} is the capital of the {country}\")\n"
   ]
  },
  {
   "cell_type": "code",
   "execution_count": 10,
   "id": "b4dd0ba5-e723-48b2-b8d9-dda1da438c1b",
   "metadata": {},
   "outputs": [
    {
     "name": "stdout",
     "output_type": "stream",
     "text": [
      "hello-mister\n"
     ]
    }
   ],
   "source": [
    "hello(\"mister\")"
   ]
  },
  {
   "cell_type": "code",
   "execution_count": 13,
   "id": "ca004441-d195-48f2-b7bf-126b4fd2d02e",
   "metadata": {},
   "outputs": [],
   "source": [
    "def add_numbers(x,y):\n",
    "    print(x+y)"
   ]
  },
  {
   "cell_type": "code",
   "execution_count": 14,
   "id": "5564787d-0ebf-4469-a7b5-257905c80fe2",
   "metadata": {},
   "outputs": [
    {
     "name": "stdout",
     "output_type": "stream",
     "text": [
      "46\n"
     ]
    }
   ],
   "source": [
    "add_numbers(23,23)"
   ]
  },
  {
   "cell_type": "code",
   "execution_count": 18,
   "id": "d9f5257f-717b-4840-b312-9856016c7ca2",
   "metadata": {},
   "outputs": [],
   "source": [
    "def hello(name=\"guest\"):\n",
    "    print(f\"-hello {name}\")"
   ]
  },
  {
   "cell_type": "code",
   "execution_count": 19,
   "id": "2890b460-4875-4e4f-b6a5-55a65f9e4bfb",
   "metadata": {},
   "outputs": [],
   "source": [
    "def get_numbers(x=23,y=22):\n",
    "    return x+y"
   ]
  },
  {
   "cell_type": "code",
   "execution_count": 21,
   "id": "7ec8ce8e-06a0-473f-86b2-10a5a06e4373",
   "metadata": {},
   "outputs": [
    {
     "data": {
      "text/plain": [
       "45"
      ]
     },
     "execution_count": 21,
     "metadata": {},
     "output_type": "execute_result"
    }
   ],
   "source": [
    "get_numbers()"
   ]
  },
  {
   "cell_type": "code",
   "execution_count": 23,
   "id": "0e870213-e976-4d69-80ce-c9fd7b07cb63",
   "metadata": {},
   "outputs": [],
   "source": [
    "def text(x=10):\n",
    "    print(x)"
   ]
  },
  {
   "cell_type": "code",
   "execution_count": 24,
   "id": "6b76b7bf-b6a6-4615-b8da-e5a73153fa40",
   "metadata": {},
   "outputs": [
    {
     "name": "stdout",
     "output_type": "stream",
     "text": [
      "10\n"
     ]
    }
   ],
   "source": [
    "text()"
   ]
  },
  {
   "cell_type": "code",
   "execution_count": 29,
   "id": "5e016a23-a65f-41d7-be54-cefea19d0c2b",
   "metadata": {},
   "outputs": [],
   "source": [
    "x =100\n",
    "def text():\n",
    "    print(x)"
   ]
  },
  {
   "cell_type": "code",
   "execution_count": 30,
   "id": "625702c3-37d8-496c-9028-6deb9fd93104",
   "metadata": {},
   "outputs": [
    {
     "name": "stdout",
     "output_type": "stream",
     "text": [
      "100\n"
     ]
    }
   ],
   "source": [
    "text()"
   ]
  },
  {
   "cell_type": "code",
   "execution_count": 1,
   "id": "f0474efe-bdee-45e5-8de7-231c269754ea",
   "metadata": {},
   "outputs": [
    {
     "name": "stdout",
     "output_type": "stream",
     "text": [
      "21\n"
     ]
    }
   ],
   "source": [
    "def text(n):\n",
    "    n=21\n",
    "    print(n)\n",
    "text(19)    "
   ]
  },
  {
   "cell_type": "code",
   "execution_count": 5,
   "id": "a8e066fd-633b-4ef9-9aee-c3bffd812f2e",
   "metadata": {},
   "outputs": [
    {
     "name": "stdout",
     "output_type": "stream",
     "text": [
      "hellodavid\n",
      "welcome to mumbai!\n"
     ]
    }
   ],
   "source": [
    "def hello(name):\n",
    "    print(f\"hello{name}\")\n",
    "def fav_city(city_name,name):\n",
    "    hello(name)\n",
    "    print(f\"welcome to {city_name}!\")\n",
    "\n",
    "fav_city(\"mumbai\", \"david\")"
   ]
  },
  {
   "cell_type": "code",
   "execution_count": 1,
   "id": "568729b6-13a2-4719-9c2d-a053323e939d",
   "metadata": {},
   "outputs": [],
   "source": [
    "single_quote_strings = 'hello'\n",
    "double_quote_strings = \"hello\"\n",
    "triple_quote_strings = '''hello'''"
   ]
  },
  {
   "cell_type": "code",
   "execution_count": 3,
   "id": "a080f503-c176-4f28-b5dc-4c877b6a24cc",
   "metadata": {},
   "outputs": [
    {
     "name": "stdout",
     "output_type": "stream",
     "text": [
      "hello\n",
      "hello\n",
      "hello\n"
     ]
    }
   ],
   "source": [
    "print(single_quote_strings)\n",
    "print(double_quote_strings)\n",
    "print(triple_quote_strings)"
   ]
  },
  {
   "cell_type": "code",
   "execution_count": 6,
   "id": "e30eed25-b858-4bd2-90e2-7bc64a488c15",
   "metadata": {},
   "outputs": [
    {
     "data": {
      "text/plain": [
       "'hahaha'"
      ]
     },
     "execution_count": 6,
     "metadata": {},
     "output_type": "execute_result"
    }
   ],
   "source": [
    "single_quote_strings[:3][1]\n",
    "\"ha\" *3\n"
   ]
  },
  {
   "cell_type": "code",
   "execution_count": 3,
   "id": "2ec67d8b-32c0-40b3-bb21-3d30009a425f",
   "metadata": {},
   "outputs": [
    {
     "name": "stdout",
     "output_type": "stream",
     "text": [
      "True\n",
      "False\n",
      "True\n"
     ]
    }
   ],
   "source": [
    "x = \"hello world\"\n",
    "print(\"hello\" in x)\n",
    "print(\"Hello\" in x) \n",
    "print(\" \" in x)"
   ]
  },
  {
   "cell_type": "code",
   "execution_count": 5,
   "id": "80a51676-f02e-4e8e-affd-4bedf606aa13",
   "metadata": {},
   "outputs": [
    {
     "data": {
      "text/plain": [
       "'david'"
      ]
     },
     "execution_count": 5,
     "metadata": {},
     "output_type": "execute_result"
    }
   ],
   "source": [
    "name = \"DAVID\"\n",
    "name.lower()"
   ]
  },
  {
   "cell_type": "code",
   "execution_count": 7,
   "id": "5b0bf4ff-b3ed-4606-8d58-158a1ad2026f",
   "metadata": {},
   "outputs": [
    {
     "name": "stdout",
     "output_type": "stream",
     "text": [
      "my name is david\n"
     ]
    }
   ],
   "source": [
    "name = \"david\"\n",
    "print(f\"my name is {name}\")"
   ]
  },
  {
   "cell_type": "code",
   "execution_count": 8,
   "id": "ae668c69-23eb-46f5-89e2-bc5723960cbd",
   "metadata": {},
   "outputs": [
    {
     "name": "stdout",
     "output_type": "stream",
     "text": [
      "hello world\n"
     ]
    }
   ],
   "source": [
    "print(\"hello world\")"
   ]
  },
  {
   "cell_type": "code",
   "execution_count": 10,
   "id": "26043c39-d355-419d-a230-4560e565944f",
   "metadata": {},
   "outputs": [
    {
     "name": "stdout",
     "output_type": "stream",
     "text": [
      "2\n"
     ]
    }
   ],
   "source": [
    "print(int(2.456))"
   ]
  },
  {
   "cell_type": "code",
   "execution_count": 13,
   "id": "5443fa2e-d68a-40de-8de1-8864f9a555b2",
   "metadata": {},
   "outputs": [
    {
     "name": "stdout",
     "output_type": "stream",
     "text": [
      "Writing myfile.txt\n"
     ]
    }
   ],
   "source": [
    "%%writefile myfile.txt\n",
    "hello, this is text file in jupyter notebook\n"
   ]
  },
  {
   "cell_type": "code",
   "execution_count": 14,
   "id": "71d88933-62d8-4f77-8096-0fa7eb1351b6",
   "metadata": {},
   "outputs": [
    {
     "name": "stdout",
     "output_type": "stream",
     "text": [
      "Writing myfile.json\n"
     ]
    }
   ],
   "source": [
    "%%writefile myfile.json\n",
    "hello, this is json file in jupyter notebook\n"
   ]
  },
  {
   "cell_type": "code",
   "execution_count": 17,
   "id": "361c609a-82b5-4a37-abdd-8cc20b52aa97",
   "metadata": {},
   "outputs": [],
   "source": [
    "#  filename = myfilr.txt, myfile.json,....\n",
    "# mode = read(r),write(w),append(a)...."
   ]
  },
  {
   "cell_type": "code",
   "execution_count": 18,
   "id": "91919675-0058-46f5-a483-af383ed3e605",
   "metadata": {},
   "outputs": [
    {
     "name": "stdout",
     "output_type": "stream",
     "text": [
      "hello, this is text file in jupyter notebook\n",
      "\n"
     ]
    }
   ],
   "source": [
    "with open('myfile.txt','r') as f:\n",
    "    print(f.read())"
   ]
  },
  {
   "cell_type": "code",
   "execution_count": 20,
   "id": "b7fdbc67-1a86-4ee0-9fb9-1c08911827c5",
   "metadata": {},
   "outputs": [],
   "source": [
    "with open('myfile.txt','a') as f:\n",
    "    f.write('\\nthis is the second line.')"
   ]
  },
  {
   "cell_type": "code",
   "execution_count": 21,
   "id": "d9fc1cd6-3802-4952-b85c-f7666a712f39",
   "metadata": {},
   "outputs": [
    {
     "name": "stdout",
     "output_type": "stream",
     "text": [
      "hello, this is text file in jupyter notebook\n",
      "\n",
      "this is the second line.\n"
     ]
    }
   ],
   "source": [
    "with open('myfile.txt','r') as f:\n",
    "    print(f.read())"
   ]
  },
  {
   "cell_type": "code",
   "execution_count": 25,
   "id": "c737a7e9-0a3a-40fa-bde9-564a816d5b21",
   "metadata": {},
   "outputs": [
    {
     "name": "stdout",
     "output_type": "stream",
     "text": [
      "Simple Calculator\n",
      "Select operation:\n",
      "1. Addition\n",
      "2. Subtraction\n",
      "3. Multiplication\n",
      "4. Division\n"
     ]
    },
    {
     "name": "stdin",
     "output_type": "stream",
     "text": [
      "Enter choice (1/2/3/4):  3\n",
      "Enter first number:  56\n",
      "Enter second number:  78\n"
     ]
    },
    {
     "name": "stdout",
     "output_type": "stream",
     "text": [
      "The result of multiplication is: 4368.0\n"
     ]
    }
   ],
   "source": [
    "# Define functions for each operation\n",
    "\n",
    "def add(a, b):\n",
    "    return a + b\n",
    "\n",
    "def subtract(a, b):\n",
    "    return a - b\n",
    "\n",
    "def multiply(a, b):\n",
    "    return a * b\n",
    "\n",
    "def divide(a, b):\n",
    "    if b == 0:\n",
    "        return \"Error: Division by zero is not allowed\"\n",
    "    return a / b\n",
    "\n",
    "\n",
    "# Main program\n",
    "print(\"Simple Calculator\")\n",
    "print(\"Select operation:\")\n",
    "print(\"1. Addition\")\n",
    "print(\"2. Subtraction\")\n",
    "print(\"3. Multiplication\")\n",
    "print(\"4. Division\")\n",
    "\n",
    "choice = input(\"Enter choice (1/2/3/4): \")\n",
    "\n",
    "# Take user input for numbers\n",
    "a = float(input(\"Enter first number: \"))\n",
    "b = float(input(\"Enter second number: \"))\n",
    "\n",
    "# Perform selected operation\n",
    "if choice == '1':\n",
    "    print(f\"The result of addition is: {add(a, b)}\")\n",
    "elif choice == '2':\n",
    "    print(f\"The result of subtraction is: {subtract(a, b)}\")\n",
    "elif choice == '3':\n",
    "    print(f\"The result of multiplication is: {multiply(a, b)}\")\n",
    "elif choice == '4':\n",
    "    print(f\"The result of division is: {divide(a, b)}\")\n",
    "else:\n",
    "    print(\"Invalid input! Please select a valid option.\")\n"
   ]
  },
  {
   "cell_type": "code",
   "execution_count": null,
   "id": "b5f05c8d-64d5-4477-a3b2-76fba395d919",
   "metadata": {},
   "outputs": [],
   "source": []
  }
 ],
 "metadata": {
  "kernelspec": {
   "display_name": "Python 3 (ipykernel)",
   "language": "python",
   "name": "python3"
  },
  "language_info": {
   "codemirror_mode": {
    "name": "ipython",
    "version": 3
   },
   "file_extension": ".py",
   "mimetype": "text/x-python",
   "name": "python",
   "nbconvert_exporter": "python",
   "pygments_lexer": "ipython3",
   "version": "3.12.7"
  }
 },
 "nbformat": 4,
 "nbformat_minor": 5
}
